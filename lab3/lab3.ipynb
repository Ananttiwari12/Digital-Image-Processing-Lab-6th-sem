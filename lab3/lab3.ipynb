{
 "cells": [
  {
   "cell_type": "code",
   "execution_count": 4,
   "metadata": {},
   "outputs": [],
   "source": [
    "from PIL import Image"
   ]
  },
  {
   "cell_type": "markdown",
   "metadata": {},
   "source": [
    "# Addition of two images\n"
   ]
  },
  {
   "cell_type": "code",
   "execution_count": 11,
   "metadata": {},
   "outputs": [],
   "source": [
    "image1 = Image.open('anant.jpeg')\n",
    "image2 = Image.open('cat.jpeg')\n",
    "\n",
    "if image1.size != image2.size:\n",
    "    image2= image2.resize(image1.size)\n",
    "\n",
    "alpha =0.5  # more alpha more image2 will appear\n",
    "result_image = Image.blend(image1, image2, alpha)\n",
    "\n",
    "image1.show(title='Image 1')\n",
    "image2.show(title='Image 2')\n",
    "result_image.show(title='Result')\n"
   ]
  },
  {
   "cell_type": "markdown",
   "metadata": {},
   "source": [
    "# subtract one image from another image"
   ]
  },
  {
   "cell_type": "code",
   "execution_count": 12,
   "metadata": {},
   "outputs": [],
   "source": [
    "from PIL import ImageChops\n",
    "import numpy as np"
   ]
  },
  {
   "cell_type": "code",
   "execution_count": 13,
   "metadata": {},
   "outputs": [],
   "source": [
    "image1 = Image.open('anant.jpeg')\n",
    "image2 = Image.open('cat.jpeg')\n",
    "\n",
    "if image1.size != image2.size:\n",
    "    image2= image2.resize(image1.size)\n",
    "\n",
    "result_image = Image.new('RGB', image1.size)\n",
    "\n",
    "for x in range(image1.width):\n",
    "    for y in range(image1.height):\n",
    "        pixel1 = image1.getpixel((x, y))\n",
    "        pixel2 = image2.getpixel((x, y))\n",
    "    \n",
    "        result_pixel = tuple(max(0, min(255, c1 - c2)) for c1, c2 in zip(pixel1, pixel2))\n",
    "        \n",
    "        result_image.putpixel((x, y), result_pixel)\n",
    "\n",
    "image1.show(title='Image 1')\n",
    "image2.show(title='Image 2 (Resized)')\n",
    "result_image.show(title='Result (Subtraction)')\n"
   ]
  },
  {
   "cell_type": "markdown",
   "metadata": {},
   "source": [
    "# calculate mean value of image\n"
   ]
  },
  {
   "cell_type": "code",
   "execution_count": 8,
   "metadata": {},
   "outputs": [],
   "source": [
    "from PIL import ImageStat"
   ]
  },
  {
   "cell_type": "code",
   "execution_count": 14,
   "metadata": {},
   "outputs": [
    {
     "name": "stdout",
     "output_type": "stream",
     "text": [
      "[160.45831136067707, 152.64795572916665, 150.95124837239584]\n",
      "mean across all channels:  154.6858384874132\n"
     ]
    }
   ],
   "source": [
    "image =Image.open('anant.jpeg')\n",
    "stat= ImageStat.Stat(image)\n",
    "meanValue_Array= stat.mean\n",
    "print(meanValue_Array)\n",
    "mean_across_all_channels = sum(meanValue_Array)/len(meanValue_Array)\n",
    "print(\"mean across all channels: \" ,mean_across_all_channels)\n"
   ]
  },
  {
   "cell_type": "markdown",
   "metadata": {},
   "source": [
    "# Vary brightness by changing mean"
   ]
  },
  {
   "cell_type": "code",
   "execution_count": 17,
   "metadata": {},
   "outputs": [],
   "source": [
    "def vary_brightness(image_path, target_mean):\n",
    "    \n",
    "    image = Image.open(image_path)\n",
    "    stat = ImageStat.Stat(image)\n",
    "    current_mean = stat.mean\n",
    "\n",
    "    brightness_factor = target_mean / current_mean[0] \n",
    "    \n",
    "    adjusted_image = Image.eval(image, lambda x: int(x * brightness_factor))\n",
    "\n",
    "    image.show(title='Original Image')\n",
    "    adjusted_image.show(title=f'Adjusted Image (Target Mean: {target_mean})')\n",
    "\n",
    "\n",
    "image_path = 'anant.jpeg'\n",
    "target_mean_value = 300\n",
    "vary_brightness(image_path, target_mean_value)"
   ]
  }
 ],
 "metadata": {
  "kernelspec": {
   "display_name": "Python 3",
   "language": "python",
   "name": "python3"
  },
  "language_info": {
   "codemirror_mode": {
    "name": "ipython",
    "version": 3
   },
   "file_extension": ".py",
   "mimetype": "text/x-python",
   "name": "python",
   "nbconvert_exporter": "python",
   "pygments_lexer": "ipython3",
   "version": "3.11.5"
  }
 },
 "nbformat": 4,
 "nbformat_minor": 2
}

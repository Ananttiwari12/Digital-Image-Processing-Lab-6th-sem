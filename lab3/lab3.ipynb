{
 "cells": [
  {
   "cell_type": "code",
   "execution_count": 1,
   "metadata": {},
   "outputs": [],
   "source": [
    "from PIL import Image"
   ]
  },
  {
   "cell_type": "markdown",
   "metadata": {},
   "source": [
    "# Addition of two images\n"
   ]
  },
  {
   "cell_type": "code",
   "execution_count": 5,
   "metadata": {},
   "outputs": [],
   "source": [
    "image1 = Image.open('dog2.jpeg')\n",
    "image2 = Image.open('cat.jpeg')\n",
    "\n",
    "if image1.size != image2.size:\n",
    "    image2= image2.resize(image1.size)\n",
    "\n",
    "result_image = Image.blend(image1, image2, 0.5)\n",
    "\n",
    "image1.show(title='Image 1')\n",
    "image2.show(title='Image 2')\n",
    "result_image.show(title='Result')\n"
   ]
  },
  {
   "cell_type": "markdown",
   "metadata": {},
   "source": [
    "# subtract one image from another image"
   ]
  },
  {
   "cell_type": "code",
   "execution_count": 9,
   "metadata": {},
   "outputs": [],
   "source": [
    "from PIL import ImageChops\n",
    "import numpy as np"
   ]
  },
  {
   "cell_type": "code",
   "execution_count": 11,
   "metadata": {},
   "outputs": [],
   "source": [
    "image1 = Image.open('dog2.jpeg')\n",
    "image2 = Image.open('cat.jpeg')\n",
    "\n",
    "if image1.size != image2.size:\n",
    "    image2= image2.resize(image1.size)\n",
    "\n",
    "result_image = Image.new('RGB', image1.size)\n",
    "\n",
    "for x in range(image1.width):\n",
    "    for y in range(image1.height):\n",
    "        pixel1 = image1.getpixel((x, y))\n",
    "        pixel2 = image2.getpixel((x, y))\n",
    "        \n",
    "    \n",
    "        result_pixel = tuple(max(0, min(255, c1 - c2)) for c1, c2 in zip(pixel1, pixel2))\n",
    "        \n",
    " \n",
    "        result_image.putpixel((x, y), result_pixel)\n",
    "\n",
    "image1.show(title='Image 1')\n",
    "image2.show(title='Image 2 (Resized)')\n",
    "result_image.show(title='Result (Subtraction)')\n"
   ]
  },
  {
   "cell_type": "markdown",
   "metadata": {},
   "source": [
    "# calculate mean value of image\n"
   ]
  },
  {
   "cell_type": "code",
   "execution_count": 12,
   "metadata": {},
   "outputs": [],
   "source": [
    "from PIL import ImageStat"
   ]
  },
  {
   "cell_type": "code",
   "execution_count": 14,
   "metadata": {},
   "outputs": [
    {
     "name": "stdout",
     "output_type": "stream",
     "text": [
      "[160.77366315378612, 149.2877748503773, 78.06294561540463]\n",
      "129.374794539856\n"
     ]
    }
   ],
   "source": [
    "image =Image.open('dog2.jpeg')\n",
    "stat= ImageStat.Stat(image)\n",
    "meanValue_Array= stat.mean\n",
    "print(meanValue_Array)\n",
    "mean_across_all_channels = sum(meanValue_Array)/len(meanValue_Array)\n",
    "print(mean_across_all_channels)\n"
   ]
  },
  {
   "cell_type": "markdown",
   "metadata": {},
   "source": [
    "# Vary brightness by changing mean"
   ]
  },
  {
   "cell_type": "code",
   "execution_count": 17,
   "metadata": {},
   "outputs": [],
   "source": [
    "def vary_brightness(image_path, target_mean):\n",
    "    \n",
    "    image = Image.open(image_path)\n",
    "\n",
    "    stat = ImageStat.Stat(image)\n",
    "    current_mean = stat.mean\n",
    "\n",
    "    brightness_factor = target_mean / current_mean[0] \n",
    "\n",
    "\n",
    "    adjusted_image = Image.eval(image, lambda x: int(x * brightness_factor))\n",
    "\n",
    "   \n",
    "    image.show(title='Original Image')\n",
    "    adjusted_image.show(title=f'Adjusted Image (Target Mean: {target_mean})')\n",
    "\n",
    "\n",
    "image_path = 'dog2.jpeg'\n",
    "target_mean_value = 1500 \n",
    "vary_brightness(image_path, target_mean_value)"
   ]
  }
 ],
 "metadata": {
  "kernelspec": {
   "display_name": "Python 3",
   "language": "python",
   "name": "python3"
  },
  "language_info": {
   "codemirror_mode": {
    "name": "ipython",
    "version": 3
   },
   "file_extension": ".py",
   "mimetype": "text/x-python",
   "name": "python",
   "nbconvert_exporter": "python",
   "pygments_lexer": "ipython3",
   "version": "3.11.5"
  }
 },
 "nbformat": 4,
 "nbformat_minor": 2
}

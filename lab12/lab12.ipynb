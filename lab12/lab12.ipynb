{
 "cells": [
  {
   "cell_type": "code",
   "execution_count": 5,
   "metadata": {},
   "outputs": [],
   "source": [
    "from PIL import Image, ImageDraw, ImageFilter\n",
    "import math"
   ]
  },
  {
   "cell_type": "code",
   "execution_count": 3,
   "metadata": {},
   "outputs": [],
   "source": [
    "\n",
    "\n",
    "def translate(image, tx, ty):\n",
    "    # Translate the image\n",
    "    translated_image = Image.new('RGB', image.size)\n",
    "    translated_image.paste(image, (tx, ty))\n",
    "    return translated_image\n",
    "\n",
    "def scale(image, scale_factor):\n",
    "    # Scale the image\n",
    "    new_size = (int(image.size[0] * scale_factor), int(image.size[1] * scale_factor))\n",
    "    scaled_image = image.resize(new_size)\n",
    "    return scaled_image\n",
    "\n",
    "def rotate(image, angle):\n",
    "    # Rotate the image\n",
    "    rotated_image = image.rotate(angle, expand=True)\n",
    "    return rotated_image\n",
    "\n",
    "def shrink(image, scale_factor):\n",
    "    # Shrink the image\n",
    "    new_size = (int(image.size[0] / scale_factor), int(image.size[1] / scale_factor))\n",
    "    shrunk_image = image.resize(new_size)\n",
    "    return shrunk_image\n",
    "\n",
    "def zoom(image, scale_factor, interpolation=Image.NEAREST):\n",
    "    # Zoom the image\n",
    "    new_size = (int(image.size[0] * scale_factor), int(image.size[1] * scale_factor))\n",
    "    zoomed_image = image.resize(new_size, resample=interpolation)\n",
    "    return zoomed_image\n",
    "\n",
    "# Open the input image using PIL\n",
    "input_image = Image.open('dog.jpeg')\n",
    "\n",
    "# Translation\n",
    "translated_image = translate(input_image, 100, 50)\n",
    "\n",
    "# Scaling\n",
    "scaled_image = scale(input_image, 2)\n",
    "\n",
    "# Rotation\n",
    "rotated_image = rotate(input_image, 45)\n",
    "\n",
    "# Shrinking\n",
    "shrinked_image = shrink(input_image, 2)\n",
    "\n",
    "# Zooming: zero order\n",
    "zoomed_image_zero_order = zoom(input_image, 2, Image.NEAREST)\n",
    "\n",
    "# Zooming: first order\n",
    "zoomed_image_first_order = zoom(input_image, 2, Image.BILINEAR)\n",
    "\n",
    "# Zooming: interpolation method\n",
    "zoomed_image_interpolation = zoom(input_image, 2, Image.BICUBIC)\n",
    "\n",
    "# Display the transformed images\n",
    "translated_image.show(title='Translated Image')\n",
    "scaled_image.show(title='Scaled Image')\n",
    "rotated_image.show(title='Rotated Image')\n",
    "shrinked_image.show(title='Shrinked Image')\n",
    "zoomed_image_zero_order.show(title='Zoomed Image (Zero Order)')\n",
    "zoomed_image_first_order.show(title='Zoomed Image (First Order)')\n",
    "zoomed_image_interpolation.show(title='Zoomed Image (Interpolation)')"
   ]
  }
 ],
 "metadata": {
  "kernelspec": {
   "display_name": "Python 3",
   "language": "python",
   "name": "python3"
  },
  "language_info": {
   "codemirror_mode": {
    "name": "ipython",
    "version": 3
   },
   "file_extension": ".py",
   "mimetype": "text/x-python",
   "name": "python",
   "nbconvert_exporter": "python",
   "pygments_lexer": "ipython3",
   "version": "3.11.5"
  }
 },
 "nbformat": 4,
 "nbformat_minor": 2
}

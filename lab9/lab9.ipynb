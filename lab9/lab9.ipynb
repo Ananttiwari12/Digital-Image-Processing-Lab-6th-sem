{
 "cells": [
  {
   "cell_type": "code",
   "execution_count": 1,
   "metadata": {},
   "outputs": [],
   "source": [
    "from PIL import Image"
   ]
  },
  {
   "cell_type": "code",
   "execution_count": 2,
   "metadata": {},
   "outputs": [],
   "source": [
    "\n",
    "\n",
    "def power_law_transformation(image, gamma):\n",
    "    # Apply power law transformation\n",
    "    gamma_corrected = image.point(lambda x: x ** gamma)\n",
    "    return gamma_corrected\n",
    "\n",
    "def intensity_level_slicing(image, lower_threshold, upper_threshold):\n",
    "    # Apply intensity level slicing\n",
    "    thresholded = image.point(lambda x: x if lower_threshold <= x <= upper_threshold else 0)\n",
    "    return thresholded\n",
    "\n",
    "def bit_level_slicing(image, bit_plane):\n",
    "    # Apply bit level slicing\n",
    "    bit_sliced = image.point(lambda x: x & (1 << bit_plane))\n",
    "    return bit_sliced\n",
    "\n",
    "# Load the input image\n",
    "image = Image.open('dog.jpeg').convert('L')\n",
    "\n",
    "# Define parameters for transformations\n",
    "gamma = 0.5\n",
    "lower_threshold = 100\n",
    "upper_threshold = 200\n",
    "bit_plane = 4\n",
    "\n",
    "# Apply power law transformation\n",
    "gamma_corrected = power_law_transformation(image, gamma)\n",
    "\n",
    "# Apply intensity level slicing\n",
    "sliced_image = intensity_level_slicing(image, lower_threshold, upper_threshold)\n",
    "\n",
    "# Apply bit level slicing\n",
    "bit_sliced_image = bit_level_slicing(image, bit_plane)\n",
    "\n",
    "# Display the images\n",
    "image.show(title='Original Image')\n",
    "gamma_corrected.show(title='Power Law Transformation')\n",
    "sliced_image.show(title='Intensity Level Slicing')\n",
    "bit_sliced_image.show(title='Bit Level Slicing')"
   ]
  }
 ],
 "metadata": {
  "kernelspec": {
   "display_name": "Python 3",
   "language": "python",
   "name": "python3"
  },
  "language_info": {
   "codemirror_mode": {
    "name": "ipython",
    "version": 3
   },
   "file_extension": ".py",
   "mimetype": "text/x-python",
   "name": "python",
   "nbconvert_exporter": "python",
   "pygments_lexer": "ipython3",
   "version": "3.11.5"
  }
 },
 "nbformat": 4,
 "nbformat_minor": 2
}

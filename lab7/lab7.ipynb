{
 "cells": [
  {
   "cell_type": "code",
   "execution_count": 1,
   "metadata": {},
   "outputs": [],
   "source": [
    "from PIL import Image, ImageDraw\n",
    "import numpy as np"
   ]
  },
  {
   "cell_type": "markdown",
   "metadata": {},
   "source": [
    "# A"
   ]
  },
  {
   "cell_type": "code",
   "execution_count": 2,
   "metadata": {},
   "outputs": [],
   "source": [
    "four_mask = [(0, 1), (1, 0), (0, -1), (-1, 0)]\n",
    "eight_mask = [(0, 1), (1, 0), (0, -1), (-1, 0), (1, 1), (1, -1), (-1, 1), (-1, -1)]"
   ]
  },
  {
   "cell_type": "code",
   "execution_count": 3,
   "metadata": {},
   "outputs": [],
   "source": [
    "image = Image.open('dog.jpeg')\n",
    "d4 = image.copy()\n",
    "d8 = image.copy()\n",
    "\n",
    "d4_iter = ImageDraw.Draw(d4)\n",
    "d8_iter = ImageDraw.Draw(d8)\n",
    "\n",
    "width=image.width\n",
    "height=image.height\n",
    "\n",
    "for x in range(width):\n",
    "    for y in range(height):\n",
    "        for dx, dy in four_mask:\n",
    "            nx, ny = x + dx, y + dy\n",
    "            if 0 <= nx < width and 0 <= ny < height and image.getpixel((nx, ny)) == image.getpixel((x, y)):\n",
    "                d4_iter.line([(x, y), (nx, ny)], fill=(0, 255, 0), width=1)\n",
    "\n",
    "        for dx, dy in eight_mask:\n",
    "            nx, ny = x + dx, y + dy\n",
    "            if 0 <= nx < width and 0 <= ny < height and image.getpixel((nx, ny)) == image.getpixel((x, y)):\n",
    "                d8_iter.line([(x, y), (nx, ny)], fill=(0, 255, 0), width=1)\n",
    "\n",
    "d4.show()\n",
    "d8.show()\n",
    "\n"
   ]
  },
  {
   "cell_type": "markdown",
   "metadata": {},
   "source": [
    "# B"
   ]
  },
  {
   "cell_type": "code",
   "execution_count": 4,
   "metadata": {},
   "outputs": [],
   "source": [
    "def manhattan(p1: tuple, p2: tuple)->int:\n",
    "    return abs(p1[0]-p2[0])+abs(p1[1]-p1[1])"
   ]
  },
  {
   "cell_type": "code",
   "execution_count": 5,
   "metadata": {},
   "outputs": [],
   "source": [
    "def euclidean(p1: tuple, p2: tuple)->float:\n",
    "    return np.sqrt((p1[0]-p2[0])**2 + (p1[1]-p2[1])**2)"
   ]
  },
  {
   "cell_type": "code",
   "execution_count": 6,
   "metadata": {},
   "outputs": [],
   "source": [
    "def chessboard(p1: tuple, p2: tuple)->int:\n",
    "    return max(abs(p1[0]-p2[0]), abs(p1[1]-p2[1]))"
   ]
  },
  {
   "cell_type": "code",
   "execution_count": 7,
   "metadata": {},
   "outputs": [
    {
     "name": "stdout",
     "output_type": "stream",
     "text": [
      "Pixel value at P: 209\n",
      "Pixel value at Q: 211\n",
      "Euclidean distance: 70.71067811865476\n",
      "Manhattan distance: 100\n",
      "Chebyshev distance: 50\n"
     ]
    }
   ],
   "source": [
    "image = Image.open('dog.jpeg').convert('L')\n",
    "\n",
    "P = (50, 50) \n",
    "Q = (100, 100) \n",
    "\n",
    "pixel_value_P = image.getpixel(P)\n",
    "pixel_value_Q = image.getpixel(Q)\n",
    "\n",
    "euclidean_distance = np.linalg.norm(np.array(P) - np.array(Q))\n",
    "\n",
    "manhattan_distance = abs(P[0] - Q[0]) + abs(P[1] - Q[1])\n",
    "\n",
    "chebyshev_distance = max(abs(P[0] - Q[0]), abs(P[1] - Q[1]))\n",
    "\n",
    "print(f\"Pixel value at P: {pixel_value_P}\")\n",
    "print(f\"Pixel value at Q: {pixel_value_Q}\")\n",
    "print(f\"Euclidean distance: {euclidean_distance}\")\n",
    "print(f\"Manhattan distance: {manhattan_distance}\")\n",
    "print(f\"Chebyshev distance: {chebyshev_distance}\")"
   ]
  },
  {
   "cell_type": "markdown",
   "metadata": {},
   "source": [
    "# C"
   ]
  },
  {
   "cell_type": "code",
   "execution_count": 9,
   "metadata": {},
   "outputs": [
    {
     "name": "stdout",
     "output_type": "stream",
     "text": [
      "Grayscale pixel value at P: 209\n",
      "RGB pixel value at P: (217, 207, 197)\n",
      "Grayscale pixel value at Q: 211\n",
      "RGB pixel value at Q: (219, 209, 199)\n",
      "Euclidean distance between pixels P and Q in RGB plane: 3.4641016151377544\n"
     ]
    }
   ],
   "source": [
    "\n",
    "image = Image.open('dog.jpeg')\n",
    "gray_image = image.convert('L')\n",
    "\n",
    "P = (50, 50) \n",
    "Q = (100, 100) \n",
    "\n",
    "gray_pixel_value_P = gray_image.getpixel(P)\n",
    "rgb_pixel_value_P = image.getpixel(P)\n",
    "\n",
    "gray_pixel_value_Q = gray_image.getpixel(Q)\n",
    "rgb_pixel_value_Q = image.getpixel(Q)\n",
    "\n",
    "rgb_euclidean_distance = np.linalg.norm(np.array(rgb_pixel_value_P) - np.array(rgb_pixel_value_Q))\n",
    "\n",
    "print(f\"Grayscale pixel value at P: {gray_pixel_value_P}\")\n",
    "print(f\"RGB pixel value at P: {rgb_pixel_value_P}\")\n",
    "print(f\"Grayscale pixel value at Q: {gray_pixel_value_Q}\")\n",
    "print(f\"RGB pixel value at Q: {rgb_pixel_value_Q}\")\n",
    "print(f\"Euclidean distance between pixels P and Q in RGB plane: {rgb_euclidean_distance}\")"
   ]
  }
 ],
 "metadata": {
  "kernelspec": {
   "display_name": "Python 3",
   "language": "python",
   "name": "python3"
  },
  "language_info": {
   "codemirror_mode": {
    "name": "ipython",
    "version": 3
   },
   "file_extension": ".py",
   "mimetype": "text/x-python",
   "name": "python",
   "nbconvert_exporter": "python",
   "pygments_lexer": "ipython3",
   "version": "3.11.5"
  }
 },
 "nbformat": 4,
 "nbformat_minor": 2
}

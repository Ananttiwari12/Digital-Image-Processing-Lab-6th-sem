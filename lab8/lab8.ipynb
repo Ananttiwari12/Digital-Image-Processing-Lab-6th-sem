{
 "cells": [
  {
   "cell_type": "markdown",
   "metadata": {},
   "source": [
    "# A"
   ]
  },
  {
   "cell_type": "code",
   "execution_count": 1,
   "metadata": {},
   "outputs": [
    {
     "name": "stdout",
     "output_type": "stream",
     "text": [
      "Input Signal: [1 2 3 4 5 6]\n",
      "Kernel: [0.5 0.5]\n",
      "Output after 1D convolution: [1.5 2.5 3.5 4.5 5.5]\n",
      "Input Image:\n",
      " [[1 2 3]\n",
      " [4 5 6]\n",
      " [7 8 9]]\n",
      "Kernel:\n",
      " [[ 1  0 -1]\n",
      " [ 1  0 -1]\n",
      " [ 1  0 -1]]\n",
      "Output after 2D convolution:\n",
      " [[-6.]]\n"
     ]
    }
   ],
   "source": [
    "import numpy as np\n",
    "\n",
    "def convolve_1d(signal, kernel):\n",
    "    kernel_size = len(kernel)\n",
    "    signal_size = len(signal)\n",
    "    output_size = signal_size - kernel_size + 1\n",
    "    output = np.zeros(output_size)\n",
    "    for i in range(output_size):\n",
    "        output[i] = np.sum(signal[i:i+kernel_size] * kernel)\n",
    "    return output\n",
    "\n",
    "# Define input signal and kernel\n",
    "signal = np.array([1, 2, 3, 4, 5, 6])\n",
    "kernel = np.array([0.5, 0.5])\n",
    "\n",
    "# Perform 1D convolution\n",
    "output = convolve_1d(signal, kernel)\n",
    "\n",
    "print(\"Input Signal:\", signal)\n",
    "print(\"Kernel:\", kernel)\n",
    "print(\"Output after 1D convolution:\", output)\n",
    "\n",
    "import numpy as np\n",
    "\n",
    "def convolve_2d(image, kernel):\n",
    "    image_height, image_width = image.shape\n",
    "    kernel_height, kernel_width = kernel.shape\n",
    "    output_height = image_height - kernel_height + 1\n",
    "    output_width = image_width - kernel_width + 1\n",
    "    output = np.zeros((output_height, output_width))\n",
    "    for i in range(output_height):\n",
    "        for j in range(output_width):\n",
    "            output[i, j] = np.sum(image[i:i+kernel_height, j:j+kernel_width] * kernel)\n",
    "    return output\n",
    "\n",
    "# Define input image and kernel\n",
    "image = np.array([[1, 2, 3],\n",
    "                  [4, 5, 6],\n",
    "                  [7, 8, 9]])\n",
    "kernel = np.array([[1, 0, -1],\n",
    "                   [1, 0, -1],\n",
    "                   [1, 0, -1]])\n",
    "\n",
    "# Perform 2D convolution\n",
    "output = convolve_2d(image, kernel)\n",
    "\n",
    "print(\"Input Image:\\n\", image)\n",
    "print(\"Kernel:\\n\", kernel)\n",
    "print(\"Output after 2D convolution:\\n\", output)\n"
   ]
  },
  {
   "cell_type": "markdown",
   "metadata": {},
   "source": [
    "# B"
   ]
  },
  {
   "cell_type": "code",
   "execution_count": 3,
   "metadata": {},
   "outputs": [],
   "source": [
    "from PIL import Image, ImageFilter"
   ]
  },
  {
   "cell_type": "code",
   "execution_count": 6,
   "metadata": {},
   "outputs": [],
   "source": [
    "image = Image.open('dog.jpeg')\n",
    "\n",
    "# Apply a 3x3 low-pass filter (smoothing filter)\n",
    "smoothed_image = image.filter(ImageFilter.BoxBlur(3))\n",
    "\n",
    "# Display the original and smoothed images\n",
    "image.show(title='Original Image')\n",
    "smoothed_image.show(title='Smoothed Image')\n",
    "\n",
    "\n",
    "from PIL import Image, ImageFilter\n",
    "\n",
    "# Open the input image\n",
    "image = Image.open('dog.jpeg')\n",
    "\n",
    "# Apply a 3x3 high-pass filter (sharpening filter)\n",
    "sharpened_image = image.filter(ImageFilter.SHARPEN)\n",
    "\n",
    "# Display the original and sharpened images\n",
    "image.show(title='Original Image')\n",
    "sharpened_image.show(title='Sharpened Image')\n"
   ]
  }
 ],
 "metadata": {
  "kernelspec": {
   "display_name": "Python 3",
   "language": "python",
   "name": "python3"
  },
  "language_info": {
   "codemirror_mode": {
    "name": "ipython",
    "version": 3
   },
   "file_extension": ".py",
   "mimetype": "text/x-python",
   "name": "python",
   "nbconvert_exporter": "python",
   "pygments_lexer": "ipython3",
   "version": "3.11.5"
  }
 },
 "nbformat": 4,
 "nbformat_minor": 2
}

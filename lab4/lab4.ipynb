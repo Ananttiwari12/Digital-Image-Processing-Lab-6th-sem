{
 "cells": [
  {
   "cell_type": "markdown",
   "metadata": {},
   "source": [
    "### Logical operation between two images\n"
   ]
  },
  {
   "cell_type": "code",
   "execution_count": 1,
   "metadata": {},
   "outputs": [],
   "source": [
    "from PIL import Image, ImageChops"
   ]
  },
  {
   "cell_type": "markdown",
   "metadata": {},
   "source": [
    "## AND"
   ]
  },
  {
   "cell_type": "code",
   "execution_count": 3,
   "metadata": {},
   "outputs": [],
   "source": [
    "from PIL import Image, ImageChops\n",
    "\n",
    "# Open the images\n",
    "image1 = Image.open('dog2.jpeg')\n",
    "image2 = Image.open('cat.jpeg')\n",
    "\n",
    "# Resize image2 if sizes are different\n",
    "if image1.size != image2.size:\n",
    "    image2 = image2.resize(image1.size)\n",
    "\n",
    "# Convert images to mode '1' (binary, black and white)\n",
    "image1 = image1.convert('1')\n",
    "image2 = image2.convert('1')\n",
    "\n",
    "# Perform logical AND operation\n",
    "res = ImageChops.logical_and(image1, image2)\n",
    "\n",
    "# Show the result\n",
    "res.show()\n"
   ]
  },
  {
   "cell_type": "markdown",
   "metadata": {},
   "source": [
    "### OR"
   ]
  },
  {
   "cell_type": "code",
   "execution_count": 5,
   "metadata": {},
   "outputs": [],
   "source": [
    "from PIL import Image, ImageChops\n",
    "\n",
    "# Open the images\n",
    "image1 = Image.open('dog2.jpeg')\n",
    "image2 = Image.open('cat.jpeg')\n",
    "\n",
    "# Resize image2 if sizes are different\n",
    "if image1.size != image2.size:\n",
    "    image2 = image2.resize(image1.size)\n",
    "\n",
    "# Convert images to mode '1' (binary, black and white)\n",
    "image1 = image1.convert('1')\n",
    "image2 = image2.convert('1')\n",
    "\n",
    "# Perform logical AND operation\n",
    "res = ImageChops.logical_or(image1, image2)\n",
    "\n",
    "# Show the result\n",
    "res.show()\n"
   ]
  },
  {
   "cell_type": "markdown",
   "metadata": {},
   "source": [
    "## XOR"
   ]
  },
  {
   "cell_type": "code",
   "execution_count": 83,
   "metadata": {},
   "outputs": [],
   "source": [
    "import cv2\n",
    "import numpy as np\n",
    "def watermark_image(image, watermark, alpha=0.5, scale_factor=0.5, grid_spacing=50):\n",
    "    \"\"\"\n",
    "    Watermarks an image with another image using XOR operation.\n",
    "\n",
    "    Args:\n",
    "        image: The image to be watermarked (numpy array).\n",
    "        watermark: The watermark image (numpy array).\n",
    "        alpha: Transparency factor for the watermark (0.0 to 1.0).\n",
    "        scale_factor: Factor to scale down the watermark size (default: 0.5).\n",
    "        grid_spacing: Spacing between watermarks (default: 50 pixels).\n",
    "\n",
    "    Returns:\n",
    "        The watermarked image (numpy array).\n",
    "    \"\"\"\n",
    "\n",
    "    # Ensure watermark has the same channels as the image\n",
    "    if watermark.shape[2] != image.shape[2]:\n",
    "        watermark = cv2.cvtColor(watermark, cv2.COLOR_GRAY2BGR)\n",
    "\n",
    "    # Resize watermark proportionally\n",
    "    new_h = int(watermark.shape[0] * scale_factor)\n",
    "    new_w = int(watermark.shape[1] * scale_factor)\n",
    "    watermark = cv2.resize(watermark, (new_w, new_h))\n",
    "\n",
    "    # Get image dimensions for watermark placement\n",
    "    image_h, image_w, _ = image.shape\n",
    "\n",
    "    # Calculate number of watermarks to fit horizontally and vertically\n",
    "    num_watermarks_w = int((image_w - new_w) / grid_spacing) + 1\n",
    "    num_watermarks_h = int((image_h - new_h) / grid_spacing) + 1\n",
    "\n",
    "    # Apply transparency\n",
    "    watermark = cv2.addWeighted(watermark, alpha, np.zeros_like(watermark), 1 - alpha, gamma=1.0)\n",
    "\n",
    "    # Create a copy of the original image for watermarking\n",
    "    watermarked_image = image.copy()\n",
    "\n",
    "    # Place watermarks on a grid\n",
    "    for y in range(num_watermarks_h):\n",
    "        for x in range(num_watermarks_w):\n",
    "            # Calculate watermark placement coordinates\n",
    "            watermark_x = x * grid_spacing\n",
    "            watermark_y = y * grid_spacing\n",
    "\n",
    "            # Ensure watermark stays within image boundaries\n",
    "            if watermark_x + new_w > image_w:\n",
    "                watermark_x = image_w - new_w\n",
    "            if watermark_y + new_h > image_h:\n",
    "                watermark_y = image_h - new_h \n",
    "\n",
    "            # Extract ROI and perform XOR operation\n",
    "            cropped_image = watermarked_image[watermark_y:watermark_y+new_h, watermark_x:watermark_x+new_w]\n",
    "            watermarked_image[watermark_y:watermark_y+new_h, watermark_x:watermark_x+new_w] = cv2.bitwise_xor(cropped_image, watermark)\n",
    "\n",
    "    return watermarked_image\n",
    "\n",
    "# Load image and watermark\n",
    "image = cv2.imread(\"image.jpg\")\n",
    "watermark = cv2.imread(\"watermark.png\")\n",
    "\n",
    "# Watermark the image with adjustments\n",
    "watermarked_image = watermark_image(image.copy(), watermark, alpha=0.7, scale_factor=0.3, grid_spacing=30)\n",
    "\n",
    "# Save the watermarked image\n",
    "cv2.imwrite(\"watermarked_image.jpg\", watermarked_image)\n",
    "\n",
    "cv2.imshow(\"Original Image\", image)\n",
    "cv2.waitKey(0)\n",
    "cv2.imshow(\"Watermarked Image\", watermarked_image)\n",
    "cv2.waitKey(0)\n",
    "cv2.destroyAllWindows()"
   ]
  },
  {
   "cell_type": "markdown",
   "metadata": {},
   "source": [
    "### NOT"
   ]
  },
  {
   "cell_type": "code",
   "execution_count": 14,
   "metadata": {},
   "outputs": [],
   "source": [
    "from PIL import Image, ImageChops\n",
    "\n",
    "image1 = Image.open('dog2.jpeg')\n",
    "image2 = Image.open('cat.jpeg')\n",
    "\n",
    "# if image1.size != image2.size:\n",
    "#     image1 = image1.resize(image2.size)\n",
    "\n",
    "res = ImageChops.invert(image2)\n",
    "res2 = ImageChops.invert(res)\n",
    "\n",
    "res.show()\n",
    "res2.show()\n"
   ]
  },
  {
   "cell_type": "markdown",
   "metadata": {},
   "source": [
    "###  AND, OR, XOR"
   ]
  },
  {
   "cell_type": "code",
   "execution_count": 18,
   "metadata": {},
   "outputs": [],
   "source": [
    "import cv2\n",
    "\n",
    "img1 = cv2.imread('cat.jpeg',0)\n",
    "img2 = cv2.imread('dog2.jpeg',0)\n",
    "img2 = cv2.resize(img2, (img1.shape[1], img1.shape[0]))\n",
    "\n",
    "\n",
    "img_bwa = cv2.bitwise_and(img1,img2)\n",
    "img_bwo = cv2.bitwise_or(img1,img2)\n",
    "img_bwx = cv2.bitwise_xor(img1,img2)\n",
    "\n",
    "cv2.imshow(\"Bitwise AND of Image 1 and 2\", img_bwa)\n",
    "cv2.waitKey(0)\n",
    "cv2.imshow(\"Bitwise OR of Image 1 and 2\", img_bwo)\n",
    "cv2.waitKey(0)\n",
    "cv2.imshow(\"Bitwise XOR of Image 1 and 2\", img_bwx)\n",
    "cv2.waitKey(0)\n",
    "cv2.destroyAllWindows()"
   ]
  },
  {
   "cell_type": "markdown",
   "metadata": {},
   "source": [
    "### INTERSECTION"
   ]
  },
  {
   "cell_type": "code",
   "execution_count": 16,
   "metadata": {},
   "outputs": [],
   "source": [
    "from PIL import Image, ImageChops\n",
    "\n",
    "# Open the images\n",
    "image1 = Image.open('dog2.jpeg')\n",
    "image2 = Image.open('cat.jpeg')\n",
    "\n",
    "# Resize image2 if sizes are different\n",
    "if image1.size != image2.size:\n",
    "    image2 = image2.resize(image1.size)\n",
    "\n",
    "# Convert images to mode '1' (binary, black and white)\n",
    "image1 = image1.convert('1')\n",
    "image2 = image2.convert('1')\n",
    "\n",
    "# Perform logical AND operation\n",
    "res = ImageChops.logical_and(image1, image2)\n",
    "\n",
    "# Show the result\n",
    "res.show()\n"
   ]
  },
  {
   "cell_type": "markdown",
   "metadata": {},
   "source": [
    "### watermarking using XOR"
   ]
  },
  {
   "cell_type": "code",
   "execution_count": 24,
   "metadata": {},
   "outputs": [],
   "source": [
    "import cv2\n",
    "import numpy as np\n",
    "\n",
    "def watermark_image(image, watermark, alpha=0.5, scale_factor=0.5, grid_spacing=50):\n",
    "   \n",
    "    # Ensure watermark has the same channels as the image\n",
    "    if watermark.shape[2] != image.shape[2]:\n",
    "        watermark = cv2.cvtColor(watermark, cv2.COLOR_GRAY2BGR)\n",
    "\n",
    "    # Resize watermark proportionally\n",
    "    new_h = int(watermark.shape[0] * scale_factor)\n",
    "    new_w = int(watermark.shape[1] * scale_factor)\n",
    "    watermark = cv2.resize(watermark, (new_w, new_h))\n",
    "\n",
    "    # Get image dimensions for watermark placement\n",
    "    image_h, image_w, _ = image.shape\n",
    "\n",
    "    # Calculate number of watermarks to fit horizontally and vertically\n",
    "    num_watermarks_w = int((image_w - new_w) / grid_spacing) + 1\n",
    "    num_watermarks_h = int((image_h - new_h) / grid_spacing) + 1\n",
    "\n",
    "    # Apply transparency\n",
    "    watermark = cv2.addWeighted(watermark, alpha, np.zeros_like(watermark), 1 - alpha, gamma=1.0)\n",
    "\n",
    "    # Create a copy of the original image for watermarking\n",
    "    watermarked_image = image.copy()\n",
    "\n",
    "    # Place watermarks on a grid\n",
    "    for y in range(num_watermarks_h):\n",
    "        for x in range(num_watermarks_w):\n",
    "            # Calculate watermark placement coordinates\n",
    "            watermark_x = x * grid_spacing\n",
    "            watermark_y = y * grid_spacing\n",
    "\n",
    "            # Ensure watermark stays within image boundaries\n",
    "            if watermark_x + new_w > image_w:\n",
    "                watermark_x = image_w - new_w\n",
    "            if watermark_y + new_h > image_h:\n",
    "                watermark_y = image_h - new_h\n",
    "\n",
    "            # Extract ROI and perform XOR operation\n",
    "            cropped_image = watermarked_image[watermark_y:watermark_y+new_h, watermark_x:watermark_x+new_w]\n",
    "            watermarked_image[watermark_y:watermark_y+new_h, watermark_x:watermark_x+new_w] = cv2.bitwise_xor(cropped_image, watermark)\n",
    "\n",
    "    return watermarked_image\n",
    "\n",
    "# Load image and watermark\n",
    "image = cv2.imread(\"dog2.jpeg\")\n",
    "watermark = cv2.imread(\"watermark.png\")\n",
    "\n",
    "# Watermark the image with adjustments\n",
    "watermarked_image = watermark_image(image.copy(), watermark, alpha=0.7, scale_factor=0.3, grid_spacing=30)\n",
    "\n",
    "# Save the watermarked image\n",
    "cv2.imwrite(\"watermarked_image.jpg\", watermarked_image)\n",
    "\n",
    "cv2.imshow(\"Original Image\", watermark)\n",
    "cv2.imshow(\"watermark\", image)\n",
    "cv2.waitKey(0)\n",
    "cv2.imshow(\"Watermarked Image\", watermarked_image)\n",
    "cv2.waitKey(0)\n",
    "cv2.destroyAllWindows()"
   ]
  }
 ],
 "metadata": {
  "kernelspec": {
   "display_name": "Python 3",
   "language": "python",
   "name": "python3"
  },
  "language_info": {
   "codemirror_mode": {
    "name": "ipython",
    "version": 3
   },
   "file_extension": ".py",
   "mimetype": "text/x-python",
   "name": "python",
   "nbconvert_exporter": "python",
   "pygments_lexer": "ipython3",
   "version": "3.11.5"
  }
 },
 "nbformat": 4,
 "nbformat_minor": 2
}

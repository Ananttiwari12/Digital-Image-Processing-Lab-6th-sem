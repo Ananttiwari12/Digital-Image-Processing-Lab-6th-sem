{
 "cells": [
  {
   "cell_type": "code",
   "execution_count": 1,
   "metadata": {},
   "outputs": [],
   "source": [
    "from PIL import Image, ImageFilter"
   ]
  },
  {
   "cell_type": "code",
   "execution_count": 2,
   "metadata": {},
   "outputs": [],
   "source": [
    "img= Image.open('dog1.jpeg')\n",
    "img.show()"
   ]
  },
  {
   "cell_type": "markdown",
   "metadata": {},
   "source": [
    "# obtain negative image using point processing method"
   ]
  },
  {
   "cell_type": "code",
   "execution_count": 3,
   "metadata": {},
   "outputs": [],
   "source": [
    "for i in range(0, img.size[0]-1):\n",
    "    for j in range(0, img.size[1]-1):\n",
    "        \n",
    "        pixelColorVals = img.getpixel((i,j))\n",
    "\n",
    "        redPixel    = 255 - pixelColorVals[0] # Negate red pixel\n",
    "        greenPixel  = 255 - pixelColorVals[1] # Negate green pixel\n",
    "        bluePixel   = 255 - pixelColorVals[2] # Negate blue pixel\n",
    "        \n",
    "        img.putpixel((i,j),(redPixel, greenPixel, bluePixel))\n",
    "        \n",
    "img.show()"
   ]
  },
  {
   "cell_type": "markdown",
   "metadata": {},
   "source": [
    "# flip the image"
   ]
  },
  {
   "cell_type": "code",
   "execution_count": 4,
   "metadata": {},
   "outputs": [],
   "source": [
    "from PIL import ImageOps"
   ]
  },
  {
   "cell_type": "code",
   "execution_count": 6,
   "metadata": {},
   "outputs": [],
   "source": [
    "img2 = Image.open('dog1.jpeg')\n",
    "flip_img= ImageOps.flip(img2)\n",
    "flip_img.show()"
   ]
  },
  {
   "cell_type": "markdown",
   "metadata": {},
   "source": [
    "# perform thresholding"
   ]
  },
  {
   "cell_type": "code",
   "execution_count": 5,
   "metadata": {},
   "outputs": [],
   "source": [
    "from PIL import Image, ImageOps\n",
    "\n",
    "# Open the image\n",
    "image_path = 'dog1.jpeg'\n",
    "img3 = Image.open(image_path)\n",
    "\n",
    "# Convert the image to grayscale\n",
    "gray_img = ImageOps.grayscale(img3)\n",
    "\n",
    "# Set the threshold value (adjust as needed)\n",
    "threshold_value = 128\n",
    "\n",
    "# Perform thresholding\n",
    "thresholded_img = gray_img.point(lambda p: p > threshold_value and 255)\n",
    "\n",
    "# Display the original and thresholded images\n",
    "img.show(title='Original Image')\n",
    "thresholded_img.show(title='Thresholded Image')\n"
   ]
  },
  {
   "cell_type": "markdown",
   "metadata": {},
   "source": [
    "# perform contrast stretching"
   ]
  },
  {
   "cell_type": "code",
   "execution_count": 8,
   "metadata": {},
   "outputs": [],
   "source": [
    "from PIL import Image, ImageOps\n",
    "\n",
    "image_path = 'dog1.jpeg'\n",
    "img = Image.open(image_path)\n",
    "\n",
    "gray_img = ImageOps.grayscale(img)\n",
    "\n",
    "min_intensity = 50\n",
    "max_intensity = 200\n",
    "\n",
    "stretched_img = gray_img.point(lambda p: (p - min_intensity) * (255 / (max_intensity - min_intensity)) if p > min_intensity else 0)\n",
    "\n",
    "img.show(title='Original Image')\n",
    "stretched_img.show(title='Contrast-Stretched Image')\n"
   ]
  }
 ],
 "metadata": {
  "kernelspec": {
   "display_name": "Python 3",
   "language": "python",
   "name": "python3"
  },
  "language_info": {
   "codemirror_mode": {
    "name": "ipython",
    "version": 3
   },
   "file_extension": ".py",
   "mimetype": "text/x-python",
   "name": "python",
   "nbconvert_exporter": "python",
   "pygments_lexer": "ipython3",
   "version": "3.11.5"
  }
 },
 "nbformat": 4,
 "nbformat_minor": 2
}

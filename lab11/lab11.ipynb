{
 "cells": [
  {
   "cell_type": "code",
   "execution_count": 1,
   "metadata": {},
   "outputs": [],
   "source": [
    "from PIL import Image, ImageDraw\n",
    "import cv2\n",
    "import numpy as np"
   ]
  },
  {
   "cell_type": "code",
   "execution_count": 4,
   "metadata": {},
   "outputs": [],
   "source": [
    "# Load the image using PIL\n",
    "image = Image.open('dog.jpeg')\n",
    "# Convert the image to grayscale\n",
    "gray_image = image.convert('L')\n",
    "# Convert PIL image to NumPy array\n",
    "np_image = np.array(gray_image)\n",
    "\n",
    "# Apply Canny edge detection\n",
    "edges = cv2.Canny(np_image, 50, 150, apertureSize=3)\n",
    "\n",
    "# Apply Hough Transform to detect lines\n",
    "lines = cv2.HoughLinesP(edges, rho=1, theta=np.pi/180, threshold=100, minLineLength=100, maxLineGap=10)\n",
    "\n",
    "# Draw detected lines on the original image using PIL\n",
    "draw = ImageDraw.Draw(image)\n",
    "if lines is not None:\n",
    "    for line in lines:\n",
    "        x1, y1, x2, y2 = line[0]\n",
    "        draw.line((x1, y1, x2, y2), fill=\"red\", width=2)\n",
    "\n",
    "# Display the image with detected boundaries\n",
    "image.show()"
   ]
  }
 ],
 "metadata": {
  "kernelspec": {
   "display_name": "Python 3",
   "language": "python",
   "name": "python3"
  },
  "language_info": {
   "codemirror_mode": {
    "name": "ipython",
    "version": 3
   },
   "file_extension": ".py",
   "mimetype": "text/x-python",
   "name": "python",
   "nbconvert_exporter": "python",
   "pygments_lexer": "ipython3",
   "version": "3.11.5"
  }
 },
 "nbformat": 4,
 "nbformat_minor": 2
}
